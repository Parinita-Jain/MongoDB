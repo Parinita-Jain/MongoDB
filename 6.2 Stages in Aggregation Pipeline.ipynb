{
 "cells": [
  {
   "cell_type": "markdown",
   "id": "optimum-champion",
   "metadata": {},
   "source": [
    "# Stages in Aggregation Pipeline\n",
    "\n",
    "----\n",
    "\n",
    "- [$match](https://docs.mongodb.com/manual/reference/operator/aggregation/match/#-match--aggregation-) - Filters the documents to pass only the documents that match the specified condition(s) to the next pipeline stage.\n",
    "\n",
    "- [$count](https://docs.mongodb.com/manual/reference/operator/aggregation/count/) - Passes a document to the next stage that contains a count of the number of documents input to the stage.\n",
    "\n",
    "- [$skip](https://docs.mongodb.com/manual/reference/operator/aggregation/skip/) - Skips over the specified number of documents that pass into the stage. \n",
    "\n",
    "- [$limit](https://docs.mongodb.com/manual/reference/operator/aggregation/limit/) - Limits the number of documents passed to the next stage in the pipeline."
   ]
  },
  {
   "cell_type": "markdown",
   "id": "respiratory-phone",
   "metadata": {},
   "source": [
    "---\n",
    "### Connecting to MongoDB using Pymongo\n",
    "----"
   ]
  },
  {
   "cell_type": "code",
   "execution_count": 38,
   "id": "2e1599ed-fd91-407b-889b-95279fef2aa9",
   "metadata": {},
   "outputs": [],
   "source": [
    "# Importing the required libraries\n",
    "import pymongo\n",
    "import pprint as pp\n",
    "\n",
    "pp.sorted = lambda x, key=None: x"
   ]
  },
  {
   "cell_type": "code",
   "execution_count": 39,
   "id": "050ca3bc-309e-4fe8-acae-77ac677ac193",
   "metadata": {},
   "outputs": [],
   "source": [
    "# Connect to local server\n",
    "client = pymongo.MongoClient('mongodb://localhost:27017/')"
   ]
  },
  {
   "cell_type": "code",
   "execution_count": 40,
   "id": "instrumental-montgomery",
   "metadata": {},
   "outputs": [],
   "source": [
    "# training database\n",
    "db = client.training"
   ]
  },
  {
   "cell_type": "code",
   "execution_count": 41,
   "id": "7d3fb4dc-964d-46d8-a08f-2c1daef069ca",
   "metadata": {},
   "outputs": [
    {
     "name": "stdout",
     "output_type": "stream",
     "text": [
      "{'_id': ObjectId('63ce280590fbea39fda03282'),\n",
      " 'indexes': [{'v': 2, 'key': {'_id': 1}, 'name': '_id_'}],\n",
      " 'uuid': 'cf2a3af8d73c4679bb0e7392895881b9',\n",
      " 'collectionName': 'hr'}\n"
     ]
    }
   ],
   "source": [
    "# Sample hr document\n",
    "pp.pprint(\n",
    "    db.hr.find_one()\n",
    ")"
   ]
  },
  {
   "cell_type": "markdown",
   "id": "73cafe16-2932-443f-bc17-dba0d191b3ff",
   "metadata": {},
   "source": [
    "---\n",
    "### **`$match` operator**\n",
    "\n",
    "[$match](https://docs.mongodb.com/manual/reference/operator/aggregation/match/) filters the documents on the given condition and before passing them to the next stage in the pipeline.\n",
    "\n",
    "**Syntax -** `{ $match: { <query> } }`\n",
    "\n",
    "----\n",
    "\n",
    "For example, we can filter and retrieve all those documents that have the `gender` field as `Female`.\n",
    "\n",
    "---"
   ]
  },
  {
   "cell_type": "code",
   "execution_count": 42,
   "id": "dcfc2e1b-2369-4217-86b9-0155f2d05d5d",
   "metadata": {},
   "outputs": [],
   "source": [
    "# Keeping documents where `gender` is Female using `$match` \n",
    "\n",
    "result = db.hr.aggregate(\n",
    "                                # Pipeline \n",
    "                                [\n",
    "                                    # Stage 1\n",
    "                                    {\n",
    "                                        '$match':{'gender':'Female'}\n",
    "                                    }\n",
    "                                ]\n",
    "                            )\n",
    "\n",
    "# Print result\n",
    "for doc in result:\n",
    "    pp.pprint(doc)\n",
    "    break"
   ]
  },
  {
   "cell_type": "markdown",
   "id": "4f363b65-514f-4357-9ee6-3280e6f43ae4",
   "metadata": {},
   "source": [
    "---\n",
    "---\n",
    "**We can include multiple filter conditions with `$match` within the same pipeline.**\n",
    "\n",
    "We can also query on embedded document fields.\n",
    "\n",
    "For example, we retrieve only those documents where `gender` is `Female` and `education.level` is `Masters`.\n",
    "\n",
    "---"
   ]
  },
  {
   "cell_type": "code",
   "execution_count": 43,
   "id": "7ba1e23f-02d2-4508-81d9-e4f400484b6f",
   "metadata": {},
   "outputs": [],
   "source": [
    "# Multiple filter conditions using `$match`\n",
    "\n",
    "result = db.hr.aggregate(\n",
    "                                # Pipeline\n",
    "                                [\n",
    "                                    # Stage 1\n",
    "                                    {\n",
    "                                        '$match':{\n",
    "                                                    'gender':'Female',\n",
    "                                                    'education.level': 'Masters'\n",
    "                                                }\n",
    "                                    }\n",
    "                                ]\n",
    "                            )\n",
    "\n",
    "# Print result\n",
    "for doc in result:\n",
    "    pp.pprint(doc)\n",
    "    break"
   ]
  },
  {
   "cell_type": "markdown",
   "id": "eda0b112-2942-4b39-a7c6-7c110dbabac1",
   "metadata": {},
   "source": [
    "---\n",
    "**Multiple stages**\n",
    "\n",
    "We can even create multiple stages for different filter conditions.\n",
    "\n",
    "For example :-\n",
    "- Stage 1 = retrieve documents where `gender` is `Female`\n",
    "- Stage 2 = retrieve documents where `eduaction.level` is `Masters`.\n",
    "\n",
    "----"
   ]
  },
  {
   "cell_type": "code",
   "execution_count": 44,
   "id": "c81a1842-6000-49c2-8358-3afe9711221b",
   "metadata": {},
   "outputs": [],
   "source": [
    "# Multiple filter conditions using `$match`\n",
    "\n",
    "result = db.hr.aggregate(\n",
    "                                # Pipeline\n",
    "                                [\n",
    "                                    # Stage 1\n",
    "                                    {\n",
    "                                        '$match':{'gender':'Female'}\n",
    "                                    },\n",
    "                                    # Stage 2\n",
    "                                    {\n",
    "                                        '$match':{'education.level':'Masters'}\n",
    "                                    }\n",
    "                                ]\n",
    "                            )\n",
    "\n",
    "# Print result\n",
    "for doc in result:\n",
    "    pp.pprint(doc)\n",
    "    break"
   ]
  },
  {
   "cell_type": "markdown",
   "id": "9a09a9a4-7dba-4668-999b-03de74ae4a50",
   "metadata": {},
   "source": [
    "---\n",
    "\n",
    "***Note is such a case where two `$match` stages follow each other, the two `$match` stages can get coalesced into a single `$match`. This is an [optimization](https://docs.mongodb.com/manual/core/aggregation-pipeline-optimization/#-match----match-coalescence) done by MongoDB.***\n",
    "\n",
    "---\n",
    "**Query operators can be used within `$match` operator.**\n",
    "\n",
    "For example, we retrieve documents where `gender` is `Male` and where `training_hours >= 100`.\n",
    "\n",
    "----"
   ]
  },
  {
   "cell_type": "code",
   "execution_count": 45,
   "id": "78b6ee29-6735-46d7-bd8e-68d43430bf8c",
   "metadata": {},
   "outputs": [],
   "source": [
    "# Query operator can be used inside $match\n",
    "\n",
    "result = db.hr.aggregate(\n",
    "                        [\n",
    "                            # Stage 1\n",
    "                            {\n",
    "                                '$match':{\n",
    "                                            'gender':'Male',\n",
    "                                            'training_hours':{'$gte':100}\n",
    "                                        }\n",
    "                            }\n",
    "                        ]\n",
    "                    )\n",
    "\n",
    "# Print results\n",
    "for doc in result:\n",
    "    pp.pprint(doc)\n",
    "    break"
   ]
  },
  {
   "cell_type": "markdown",
   "id": "adult-richardson",
   "metadata": {},
   "source": [
    "---\n",
    "For example, we retrieve documents where `gender` is `Female` and where either `experience.years <= 5` or `experience.years >= 7`.\n",
    "\n",
    "----"
   ]
  },
  {
   "cell_type": "code",
   "execution_count": 46,
   "id": "99fbb692-a723-4c33-91f1-5205db3e99fa",
   "metadata": {},
   "outputs": [],
   "source": [
    "# Query operator can be used inside $match\n",
    "\n",
    "result = db.hr.aggregate(\n",
    "                    [\n",
    "                        # Stage 1\n",
    "                        {\n",
    "                            '$match':{\n",
    "                                        'gender':'Female',\n",
    "                                        '$or':[\n",
    "                                                    {'experience.years':{'$lte':5}},\n",
    "                                                    {'experience.years':{'$gte':7}}\n",
    "                                              ]\n",
    "                                    }\n",
    "                        }\n",
    "                    ]\n",
    "                )\n",
    "\n",
    "\n",
    "# Print results\n",
    "for doc in result:\n",
    "    pp.pprint(doc)\n",
    "    break"
   ]
  },
  {
   "cell_type": "markdown",
   "id": "88c0faad-f186-4e63-82d4-485a832d75f5",
   "metadata": {},
   "source": [
    "---\n",
    "**Note -**\n",
    "- `$match` operator should come as early in the pipeline as possible.\n",
    "- Since `$match` filters the documents, it reduces the number of documents to work upon in the subsequent stages.\n",
    "\n",
    "----"
   ]
  },
  {
   "cell_type": "markdown",
   "id": "a33b43fc-c6df-454d-bf3c-4974c2472407",
   "metadata": {},
   "source": [
    "----\n",
    "### `$count` stage\n",
    "\n",
    "[$count](https://docs.mongodb.com/manual/reference/operator/aggregation/count/) aggregation pipeline operator returns the count of the documents to the next stage of pipeline.\n",
    "\n",
    "We can provide name of the output field as string.\n",
    "\n",
    "**Syntax -** `{ $count: <string> }`\n",
    "\n",
    "----\n",
    "\n",
    "For example, we can count number of documents in `hr` collection.\n",
    "\n",
    "----"
   ]
  },
  {
   "cell_type": "code",
   "execution_count": 47,
   "id": "scientific-community",
   "metadata": {},
   "outputs": [
    {
     "name": "stdout",
     "output_type": "stream",
     "text": [
      "{'Total_docs': 1}\n"
     ]
    }
   ],
   "source": [
    "# Count documents\n",
    "\n",
    "result = db.hr.aggregate(\n",
    "                            [\n",
    "                                # Stage 1\n",
    "                                {\n",
    "                                    '$count': 'Total_docs'\n",
    "                                }\n",
    "                            ])\n",
    "\n",
    "# Print results\n",
    "for doc in result:\n",
    "    pp.pprint(doc)"
   ]
  },
  {
   "cell_type": "markdown",
   "id": "successful-narrow",
   "metadata": {},
   "source": [
    "---\n",
    "Compare it to `count()` that we used in querying.\n",
    "\n",
    "---"
   ]
  },
  {
   "cell_type": "code",
   "execution_count": 48,
   "id": "forty-academy",
   "metadata": {},
   "outputs": [
    {
     "data": {
      "text/plain": [
       "1"
      ]
     },
     "execution_count": 48,
     "metadata": {},
     "output_type": "execute_result"
    }
   ],
   "source": [
    "# Count documents\n",
    "len(list(db.hr.find()))#.count()"
   ]
  },
  {
   "cell_type": "markdown",
   "id": "spanish-member",
   "metadata": {},
   "source": [
    "---\n",
    "For example, we can retrieve all the documents where the `gender` is `Female` and then count the number of documents that are retrieved.\n",
    "\n",
    "\n",
    "---"
   ]
  },
  {
   "cell_type": "code",
   "execution_count": 49,
   "id": "662ac0c2-49b9-4ca8-9901-5b11612a7312",
   "metadata": {},
   "outputs": [],
   "source": [
    "# Count filtered documents\n",
    "\n",
    "result = db.hr.aggregate(\n",
    "                            [\n",
    "                                # Stage 1 - filter\n",
    "                                {\n",
    "                                    '$match':{'gender':'Female'}\n",
    "                                },\n",
    "                                # Stage 2 - count\n",
    "                                {\n",
    "                                    '$count': 'Female_candidates'\n",
    "                                }\n",
    "                            ])\n",
    "\n",
    "# Print results\n",
    "for doc in result:\n",
    "    pp.pprint(doc)"
   ]
  },
  {
   "cell_type": "markdown",
   "id": "chubby-script",
   "metadata": {},
   "source": [
    "----\n",
    "### `$skip` stage\n",
    "\n",
    "[$skip](https://docs.mongodb.com/manual/reference/operator/aggregation/skip/) stage operator skips over the specified number of documents that pass into the stage. \n",
    "\n",
    "Passes the remaining documents to the next stage in the pipeline.\n",
    "\n",
    "**Syntax -** `{ $skip: <positive integer> }`\n",
    "\n",
    "----\n",
    "\n",
    "For example, we can skip a few documents and check the count of the documents returned.\n",
    "\n",
    "----"
   ]
  },
  {
   "cell_type": "code",
   "execution_count": 50,
   "id": "attempted-merchandise",
   "metadata": {},
   "outputs": [
    {
     "name": "stdout",
     "output_type": "stream",
     "text": [
      "{'Total_docs': 1}\n"
     ]
    }
   ],
   "source": [
    "# Count documents\n",
    "\n",
    "result = db.hr.aggregate(\n",
    "                            [\n",
    "                                # Stage 1\n",
    "                                {\n",
    "                                    '$count': 'Total_docs'\n",
    "                                }\n",
    "                            ])\n",
    "\n",
    "# Print results\n",
    "for doc in result:\n",
    "    pp.pprint(doc)"
   ]
  },
  {
   "cell_type": "code",
   "execution_count": 51,
   "id": "cubic-table",
   "metadata": {},
   "outputs": [],
   "source": [
    "# Skip documents\n",
    "\n",
    "result = db.hr.aggregate(\n",
    "                            [\n",
    "                                # Stage 1 - skip\n",
    "                                {\n",
    "                                    '$skip': 10\n",
    "                                },\n",
    "                                # Stage 2 - count\n",
    "                                {\n",
    "                                    '$count': 'Altered_count'\n",
    "                                }\n",
    "                            ])\n",
    "\n",
    "# Print results\n",
    "for doc in result:\n",
    "    pp.pprint(doc)"
   ]
  },
  {
   "cell_type": "markdown",
   "id": "hybrid-atlas",
   "metadata": {},
   "source": [
    "----\n",
    "### `$limit` stage\n",
    "\n",
    "[$limit](https://docs.mongodb.com/manual/reference/operator/aggregation/limit/) stage operator limits the number of documents passed to the next stage in the pipeline.\n",
    "\n",
    "**Syntax -** `{ $limit: <positive integer> }`\n",
    "\n",
    "----\n",
    "\n",
    "For example, return only the top 5 documents from collection where `gender` is `Other`.\n",
    "\n",
    "----"
   ]
  },
  {
   "cell_type": "code",
   "execution_count": 52,
   "id": "reliable-remains",
   "metadata": {},
   "outputs": [],
   "source": [
    "# Limit documents\n",
    "\n",
    "result = db.hr.aggregate(\n",
    "                            [\n",
    "                                # Stage 1 - Filter\n",
    "                                {\n",
    "                                    '$match':{'gender':'Other'}\n",
    "                                },\n",
    "                                 # Stage 2 - limit\n",
    "                                {\n",
    "                                    '$limit': 5\n",
    "                                }\n",
    "                            ])\n",
    "\n",
    "# Print results\n",
    "for doc in result:\n",
    "    pp.pprint(doc)"
   ]
  },
  {
   "cell_type": "markdown",
   "id": "whole-watts",
   "metadata": {},
   "source": [
    "---\n",
    "----\n",
    "### Question -\n",
    "\n",
    "Count the number of enrollees that are from `STEM discipline`.\n",
    "\n",
    "---"
   ]
  },
  {
   "cell_type": "code",
   "execution_count": 53,
   "id": "d2158e54-1053-47a5-8c02-115017844b94",
   "metadata": {},
   "outputs": [],
   "source": [
    "# Question\n",
    "result = db.hr.aggregate(\n",
    "                            [\n",
    "                                # Stage 1\n",
    "                                {\n",
    "                                    '$match': {'education.discipline': 'STEM'}\n",
    "                                },\n",
    "                                # Stage 2\n",
    "                                {\n",
    "                                    '$count': 'STEM_students_count'\n",
    "                                }\n",
    "                            ]\n",
    "    )\n",
    "\n",
    "for doc in result:\n",
    "    pp.pprint(doc)"
   ]
  },
  {
   "cell_type": "markdown",
   "id": "north-headset",
   "metadata": {},
   "source": [
    "----\n",
    "### Question - \n",
    "\n",
    "How many enrollees have either an experience of more than 5 years or an education level as either Graduate, Masters, or Phd?\n",
    "\n",
    "----"
   ]
  },
  {
   "cell_type": "code",
   "execution_count": 54,
   "id": "verified-berry",
   "metadata": {},
   "outputs": [
    {
     "data": {
      "text/plain": [
       "[]"
      ]
     },
     "execution_count": 54,
     "metadata": {},
     "output_type": "execute_result"
    }
   ],
   "source": [
    "# Distinct education levels\n",
    "db.hr.distinct('education.level')"
   ]
  },
  {
   "cell_type": "code",
   "execution_count": 55,
   "id": "33cd0682-2623-4706-9a2c-091e07daa192",
   "metadata": {},
   "outputs": [],
   "source": [
    "# Question\n",
    "result = db.hr.aggregate(\n",
    "        [\n",
    "            # Stage 1\n",
    "            {\n",
    "                '$match': {\n",
    "                            '$or':[\n",
    "                                    {'experience.years':{'$gt':5}},\n",
    "                                    {\n",
    "                                        'education.level':{\n",
    "                                                            '$in': ['Graduate',\n",
    "                                                                    'Masters',\n",
    "                                                                    'Phd']\n",
    "                                                        }\n",
    "                                    }\n",
    "                                  ]\n",
    "                }\n",
    "            },\n",
    "            # Stage 2\n",
    "            {\n",
    "                '$count': 'Answer'\n",
    "            }\n",
    "        ]\n",
    "    )\n",
    "\n",
    "for doc in result:\n",
    "    pp.pprint(doc)"
   ]
  },
  {
   "cell_type": "markdown",
   "id": "valuable-anxiety",
   "metadata": {},
   "source": [
    "----\n",
    "----\n",
    "### Exercise 1 - \n",
    "\n",
    "How many female enrollees with experience of less than 5 years work for an NGO?\n",
    "\n",
    "----"
   ]
  },
  {
   "cell_type": "markdown",
   "id": "celtic-glasgow",
   "metadata": {},
   "source": [
    "----\n",
    "### Exercise 2 - \n",
    "\n",
    "How many enrollees have either a relevant experience of at least 1 year or more than 100 hours of training?\n",
    "\n",
    "----"
   ]
  },
  {
   "cell_type": "code",
   "execution_count": null,
   "id": "thick-bachelor",
   "metadata": {},
   "outputs": [],
   "source": []
  }
 ],
 "metadata": {
  "kernelspec": {
   "display_name": "Python 3 (ipykernel)",
   "language": "python",
   "name": "python3"
  },
  "language_info": {
   "codemirror_mode": {
    "name": "ipython",
    "version": 3
   },
   "file_extension": ".py",
   "mimetype": "text/x-python",
   "name": "python",
   "nbconvert_exporter": "python",
   "pygments_lexer": "ipython3",
   "version": "3.9.13"
  }
 },
 "nbformat": 4,
 "nbformat_minor": 5
}
