{
 "cells": [
  {
   "cell_type": "markdown",
   "id": "constitutional-elephant",
   "metadata": {},
   "source": [
    "# Building sub-pipelines\n",
    "\n",
    "---\n",
    "\n",
    "[$facet](https://docs.mongodb.com/manual/reference/operator/aggregation/facet/) - Processing multiple aggregation sub-pipelines within a single stage on the same set of input documents."
   ]
  },
  {
   "cell_type": "markdown",
   "id": "latest-tucson",
   "metadata": {},
   "source": [
    "---\n",
    "### Conneting to MongoDB using Pymongo\n",
    "----"
   ]
  },
  {
   "cell_type": "code",
   "execution_count": 1,
   "id": "personalized-trouble",
   "metadata": {},
   "outputs": [],
   "source": [
    "# Importing the required libraries\n",
    "import pymongo\n",
    "import pprint as pp\n",
    "\n",
    "pp.sorted = lambda x, key=None: x"
   ]
  },
  {
   "cell_type": "code",
   "execution_count": 2,
   "id": "alert-stanley",
   "metadata": {},
   "outputs": [],
   "source": [
    "# Connect to the mongo client - Atlas Cluster\n",
    "client = pymongo.MongoClient('mongodb://localhost:27017/')"
   ]
  },
  {
   "cell_type": "code",
   "execution_count": 3,
   "id": "motivated-boundary",
   "metadata": {},
   "outputs": [],
   "source": [
    "# Database\n",
    "db = client.training"
   ]
  },
  {
   "cell_type": "code",
   "execution_count": 4,
   "id": "macro-revelation",
   "metadata": {},
   "outputs": [
    {
     "name": "stdout",
     "output_type": "stream",
     "text": [
      "{'_id': ObjectId('60af5db0b2f5ad99212f9464'),\n",
      " 'enrollee_id': 23798,\n",
      " 'gender': 'Male',\n",
      " 'date_of_enrollment': datetime.datetime(2016, 1, 23, 0, 0),\n",
      " 'city': {'name': 'city_149', 'development_index': 0.689},\n",
      " 'education': {'level': 'Graduate', 'discipline': 'STEM'},\n",
      " 'experience': {'years': 3,\n",
      "                'company_type': 'Pvt Ltd',\n",
      "                'last_new_job': 1,\n",
      "                'relevent_experience': 1},\n",
      " 'training_hours': 106}\n"
     ]
    }
   ],
   "source": [
    "# Sample document\n",
    "pp.pprint(\n",
    "    db.hr.find_one())"
   ]
  },
  {
   "cell_type": "markdown",
   "id": "illegal-dietary",
   "metadata": {},
   "source": [
    "---\n",
    "### Question - \n",
    "\n",
    "Find average training hours delivered per year and per month after 2017.\n",
    "\n",
    "----"
   ]
  },
  {
   "cell_type": "markdown",
   "id": "valuable-russia",
   "metadata": {},
   "source": [
    "**Importing datetime library**\n",
    "\n",
    "----"
   ]
  },
  {
   "cell_type": "code",
   "execution_count": 5,
   "id": "controlled-communication",
   "metadata": {},
   "outputs": [],
   "source": [
    "# Import library\n",
    "from datetime import datetime"
   ]
  },
  {
   "cell_type": "code",
   "execution_count": 6,
   "id": "choice-crack",
   "metadata": {},
   "outputs": [
    {
     "name": "stdout",
     "output_type": "stream",
     "text": [
      "{'_id': 2019, 'avg_hours': 66.88719309887193}\n",
      "{'_id': 2020, 'avg_hours': 65.56362425049967}\n",
      "{'_id': 2018, 'avg_hours': 65.4376775007889}\n"
     ]
    }
   ],
   "source": [
    "# Question\n",
    "result = db.hr.aggregate(\n",
    "                    [\n",
    "                        # Stage 1 - Filter documents\n",
    "                        {\n",
    "                            '$match':{'date_of_enrollment':{'$gte':datetime(2018,1,1)}}\n",
    "                        },\n",
    "                        # Stage 2 - Project year\n",
    "                        {\n",
    "                            '$project':{\n",
    "                                            'Year':{'$year':'$date_of_enrollment'},\n",
    "                                            'training_hours':1\n",
    "                                        }\n",
    "                        },\n",
    "                        # Stage 3 - Group by year\n",
    "                        {\n",
    "                            '$group':{\n",
    "                                        '_id':'$Year',\n",
    "                                        'avg_hours':{'$avg':'$training_hours'}\n",
    "                                    }\n",
    "                        },\n",
    "                        # Stage 4 - Sort by avg_hours\n",
    "                        {\n",
    "                            '$sort':{'avg_hours':-1}\n",
    "                        }\n",
    "                    ]\n",
    "                )\n",
    "\n",
    "# Print result\n",
    "for doc in result:\n",
    "    pp.pprint(doc)"
   ]
  },
  {
   "cell_type": "code",
   "execution_count": 7,
   "id": "every-processor",
   "metadata": {},
   "outputs": [
    {
     "name": "stdout",
     "output_type": "stream",
     "text": [
      "{'_id': 10, 'avg_hours': 68.19245773732119}\n",
      "{'_id': 8, 'avg_hours': 67.96581196581197}\n",
      "{'_id': 3, 'avg_hours': 67.915611814346}\n",
      "{'_id': 5, 'avg_hours': 67.01259445843829}\n",
      "{'_id': 7, 'avg_hours': 66.36752136752136}\n",
      "{'_id': 1, 'avg_hours': 66.16834170854271}\n",
      "{'_id': 9, 'avg_hours': 66.11168831168831}\n",
      "{'_id': 6, 'avg_hours': 66.01838755304102}\n",
      "{'_id': 2, 'avg_hours': 65.08137931034483}\n",
      "{'_id': 4, 'avg_hours': 64.83753148614609}\n",
      "{'_id': 12, 'avg_hours': 62.754189944134076}\n",
      "{'_id': 11, 'avg_hours': 62.73071895424837}\n"
     ]
    }
   ],
   "source": [
    "# Question\n",
    "result = db.hr.aggregate(\n",
    "                    [\n",
    "                        # Stage 1 - Filter documents\n",
    "                        {\n",
    "                            '$match':{'date_of_enrollment':{'$gte':datetime(2018,1,1)}}\n",
    "                        },\n",
    "                        # Stage 2 - Project month\n",
    "                        {\n",
    "                            '$project':{\n",
    "                                            'Month':{'$month':'$date_of_enrollment'},\n",
    "                                            'training_hours':1\n",
    "                                        }\n",
    "                        },\n",
    "                        # Stage 3 - Group by year\n",
    "                        {\n",
    "                            '$group':{\n",
    "                                        '_id':'$Month',\n",
    "                                        'avg_hours':{'$avg':'$training_hours'}\n",
    "                                    }\n",
    "                        },\n",
    "                        # Stage 4 - Sort by avg_hours\n",
    "                        {\n",
    "                            '$sort':{'avg_hours':-1}\n",
    "                        }\n",
    "                    ]\n",
    "                )\n",
    "\n",
    "# Print result\n",
    "for doc in result:\n",
    "    pp.pprint(doc)"
   ]
  },
  {
   "cell_type": "markdown",
   "id": "legendary-collar",
   "metadata": {},
   "source": [
    "---\n",
    "We couldn't have answered the query with a single group stage.\n",
    "\n",
    "----"
   ]
  },
  {
   "cell_type": "code",
   "execution_count": 8,
   "id": "organizational-operation",
   "metadata": {
    "scrolled": true
   },
   "outputs": [
    {
     "name": "stdout",
     "output_type": "stream",
     "text": [
      "{'_id': {'Year': 2019, 'Month': 8}, 'avg_hours': 71.2392156862745}\n",
      "{'_id': {'Year': 2018, 'Month': 3}, 'avg_hours': 71.19574468085106}\n",
      "{'_id': {'Year': 2020, 'Month': 10}, 'avg_hours': 70.04}\n",
      "{'_id': {'Year': 2020, 'Month': 4}, 'avg_hours': 69.92885375494072}\n",
      "{'_id': {'Year': 2019, 'Month': 6}, 'avg_hours': 69.02479338842976}\n",
      "{'_id': {'Year': 2018, 'Month': 7}, 'avg_hours': 68.85069444444444}\n",
      "{'_id': {'Year': 2020, 'Month': 5}, 'avg_hours': 68.67588932806323}\n",
      "{'_id': {'Year': 2020, 'Month': 8}, 'avg_hours': 68.17605633802818}\n",
      "{'_id': {'Year': 2020, 'Month': 1}, 'avg_hours': 68.11320754716981}\n",
      "{'_id': {'Year': 2019, 'Month': 7}, 'avg_hours': 67.75}\n",
      "{'_id': {'Year': 2018, 'Month': 9}, 'avg_hours': 67.4332129963899}\n",
      "{'_id': {'Year': 2019, 'Month': 1}, 'avg_hours': 67.29166666666667}\n",
      "{'_id': {'Year': 2018, 'Month': 10}, 'avg_hours': 67.19433198380567}\n",
      "{'_id': {'Year': 2019, 'Month': 10}, 'avg_hours': 67.1336032388664}\n",
      "{'_id': {'Year': 2018, 'Month': 6}, 'avg_hours': 67.03056768558952}\n",
      "{'_id': {'Year': 2019, 'Month': 5}, 'avg_hours': 66.8905109489051}\n",
      "{'_id': {'Year': 2019, 'Month': 3}, 'avg_hours': 66.85950413223141}\n",
      "{'_id': {'Year': 2019, 'Month': 4}, 'avg_hours': 66.6231884057971}\n",
      "{'_id': {'Year': 2019, 'Month': 2}, 'avg_hours': 66.41484716157206}\n",
      "{'_id': {'Year': 2019, 'Month': 9}, 'avg_hours': 66.02409638554217}\n",
      "{'_id': {'Year': 2020, 'Month': 3}, 'avg_hours': 65.71367521367522}\n",
      "{'_id': {'Year': 2018, 'Month': 5}, 'avg_hours': 65.56179775280899}\n",
      "{'_id': {'Year': 2018, 'Month': 12}, 'avg_hours': 65.53691275167785}\n",
      "{'_id': {'Year': 2019, 'Month': 12}, 'avg_hours': 65.18861209964413}\n",
      "{'_id': {'Year': 2018, 'Month': 8}, 'avg_hours': 64.77142857142857}\n",
      "{'_id': {'Year': 2020, 'Month': 9}, 'avg_hours': 64.70081967213115}\n",
      "{'_id': {'Year': 2020, 'Month': 2}, 'avg_hours': 64.58052434456928}\n",
      "{'_id': {'Year': 2018, 'Month': 2}, 'avg_hours': 64.33187772925764}\n",
      "{'_id': {'Year': 2020, 'Month': 11}, 'avg_hours': 63.57677902621723}\n",
      "{'_id': {'Year': 2018, 'Month': 1}, 'avg_hours': 63.470790378006875}\n",
      "{'_id': {'Year': 2020, 'Month': 7}, 'avg_hours': 62.70034843205575}\n",
      "{'_id': {'Year': 2018, 'Month': 11}, 'avg_hours': 62.40304182509506}\n",
      "{'_id': {'Year': 2019, 'Month': 11}, 'avg_hours': 62.136170212765954}\n",
      "{'_id': {'Year': 2020, 'Month': 6}, 'avg_hours': 61.95338983050848}\n",
      "{'_id': {'Year': 2018, 'Month': 4}, 'avg_hours': 58.11698113207547}\n",
      "{'_id': {'Year': 2020, 'Month': 12}, 'avg_hours': 51.70802919708029}\n"
     ]
    }
   ],
   "source": [
    "# Question\n",
    "result = db.hr.aggregate(\n",
    "                    [\n",
    "                        # Stage 1 - Filter documents\n",
    "                        {\n",
    "                            '$match':{'date_of_enrollment':{'$gte':datetime(2018,1,1)}}\n",
    "                        },\n",
    "                        # Stage 2 - Project month\n",
    "                        {\n",
    "                            '$project':{\n",
    "                                            'Year':{'$year':'$date_of_enrollment'},\n",
    "                                            'Month':{'$month':'$date_of_enrollment'},\n",
    "                                            'training_hours':1\n",
    "                                        }\n",
    "                        },\n",
    "                        # Stage 3 - Group by year\n",
    "                        {\n",
    "                            '$group':{\n",
    "                                        '_id':{\n",
    "                                                'Year':'$Year',\n",
    "                                                'Month':'$Month'\n",
    "                                                },\n",
    "                                        'avg_hours':{'$avg':'$training_hours'}\n",
    "                                    }\n",
    "                        },\n",
    "                        # Stage 4 - Sort by avg_hours\n",
    "                        {\n",
    "                            '$sort':{'avg_hours':-1}\n",
    "                        }\n",
    "                    ]\n",
    "                )\n",
    "\n",
    "# Print result\n",
    "for doc in result:\n",
    "    pp.pprint(doc)"
   ]
  },
  {
   "cell_type": "markdown",
   "id": "wrong-tutorial",
   "metadata": {},
   "source": [
    "----\n",
    "---\n",
    "**To solve these questions we had to create two separate pipelines. This means we had to fetch the same documents twice from the database. Can we combine these two pipelines together and reduce the data we have to fetch from database?**\n",
    "\n",
    "---\n",
    "----"
   ]
  },
  {
   "cell_type": "markdown",
   "id": "cutting-forth",
   "metadata": {},
   "source": [
    "---\n",
    "\n",
    "### Sub-pipelines using [$facet](https://docs.mongodb.com/manual/reference/operator/aggregation/facet/)\n",
    "\n",
    "- `$facet` allows to create multiple aggregation sub-pipelines within a single stage.\n",
    "\n",
    "- Each sub-pipeline can have multiple stages.\n",
    "\n",
    "- Same documents are passed to all sub-pipelines from the preliminary stage to `$facet`.\n",
    "\n",
    "- Output of one sub-pipeline within `$facet` is *not passed as input to the next sub-pipeline*.\n",
    "\n",
    "- This way you would not have to fetch data from database for every aggregation.\n",
    "\n",
    "- Useful for aggregating data along multiple dimensions.\n",
    "\n",
    "----\n",
    "\n",
    "**Syntax -**\n",
    "\n",
    "{ $facet:\n",
    "\n",
    "   {\n",
    "   \n",
    "      <outputField1>: [ <stage1>, <stage2>, ... ],\n",
    "      \n",
    "      <outputField2>: [ <stage1>, <stage2>, ... ],\n",
    "      ...\n",
    "\n",
    "   }\n",
    "   \n",
    "}\n",
    "\n",
    "----\n",
    "\n",
    "### Question -\n",
    "\n",
    "Finding average training hours delivered per month and per year after 2017 using a single pipeline.\n",
    "\n",
    "\n",
    "----"
   ]
  },
  {
   "cell_type": "code",
   "execution_count": 9,
   "id": "essential-divorce",
   "metadata": {},
   "outputs": [
    {
     "name": "stdout",
     "output_type": "stream",
     "text": [
      "{'Yearly_avg_hours': [{'_id': 2019, 'avg_hours': 66.88719309887193},\n",
      "                      {'_id': 2020, 'avg_hours': 65.56362425049967},\n",
      "                      {'_id': 2018, 'avg_hours': 65.4376775007889}],\n",
      " 'Monthly_avg_hours': [{'_id': 10, 'avg_hours': 68.19245773732119},\n",
      "                       {'_id': 8, 'avg_hours': 67.96581196581197},\n",
      "                       {'_id': 3, 'avg_hours': 67.915611814346},\n",
      "                       {'_id': 5, 'avg_hours': 67.01259445843829},\n",
      "                       {'_id': 7, 'avg_hours': 66.36752136752136},\n",
      "                       {'_id': 1, 'avg_hours': 66.16834170854271},\n",
      "                       {'_id': 9, 'avg_hours': 66.11168831168831},\n",
      "                       {'_id': 6, 'avg_hours': 66.01838755304102},\n",
      "                       {'_id': 2, 'avg_hours': 65.08137931034483},\n",
      "                       {'_id': 4, 'avg_hours': 64.83753148614609},\n",
      "                       {'_id': 12, 'avg_hours': 62.754189944134076},\n",
      "                       {'_id': 11, 'avg_hours': 62.73071895424837}]}\n"
     ]
    }
   ],
   "source": [
    "# Sub-pipeline\n",
    "\n",
    "result = db.hr.aggregate(\n",
    "    \n",
    "    # Pipeline\n",
    "    [\n",
    "        # Stage 1 - Filter documents after 2017     \n",
    "        {\n",
    "            '$match':{'date_of_enrollment':{'$gte':datetime(2018,1,1)}}\n",
    "        },\n",
    "        \n",
    "        # Stage 2 - Project year and month\n",
    "        {\n",
    "            '$project':{\n",
    "                            'Year':{'$year':'$date_of_enrollment'},\n",
    "                            'Month':{'$month':'$date_of_enrollment'},\n",
    "                            'training_hours':1\n",
    "                        }\n",
    "        },\n",
    "        \n",
    "        # Stage 3 - Sub-pipelines\n",
    "        {\n",
    "            '$facet':{\n",
    "                        # Sub-pipeline 1 - Aggregate along year\n",
    "                        'Yearly_avg_hours':[\n",
    "                                                # Stage 1 - Group\n",
    "                                                {\n",
    "                                                    '$group':{\n",
    "                                                                '_id':'$Year',\n",
    "                                                                'avg_hours':{'$avg':'$training_hours'}\n",
    "                                                            }\n",
    "                                                },\n",
    "                                                # Stage 2 - Sort\n",
    "                                                {\n",
    "                                                    '$sort':{'avg_hours':-1}\n",
    "                                                }\n",
    "                                         ],\n",
    "                \n",
    "                        # Sub-pipeline 2 - Aggregate along month\n",
    "                        'Monthly_avg_hours':[\n",
    "                                                # Stage 1 - Group\n",
    "                                                {\n",
    "                                                    '$group':{\n",
    "                                                                '_id':'$Month',\n",
    "                                                                'avg_hours':{'$avg':'$training_hours'}\n",
    "                                                            }\n",
    "                                                },\n",
    "                                                # Stage 2 - Sort\n",
    "                                                {\n",
    "                                                    '$sort':{'avg_hours':-1}\n",
    "                                                }\n",
    "                                         ] \n",
    "                        }\n",
    "            }\n",
    "    ])\n",
    "\n",
    "# Print results\n",
    "for doc in result:\n",
    "    pp.pprint(doc)"
   ]
  },
  {
   "cell_type": "markdown",
   "id": "intensive-principle",
   "metadata": {},
   "source": [
    "---\n",
    "### Question - \n",
    "\n",
    "What is average quarterly and half-yearly training hours delivered for enrollees after 2017?\n",
    "\n",
    "-----"
   ]
  },
  {
   "cell_type": "code",
   "execution_count": 10,
   "id": "printable-italic",
   "metadata": {},
   "outputs": [
    {
     "name": "stdout",
     "output_type": "stream",
     "text": [
      "{'Half_Yearly_avg_hours': [{'_id': 1, 'avg_hours': 66.15992931301082},\n",
      "                           {'_id': 7, 'avg_hours': 65.75483039931301}],\n",
      " 'Quarterly_avg_hours': [{'_id': 7, 'avg_hours': 66.82931893687707},\n",
      "                         {'_id': 1, 'avg_hours': 66.37186379928315},\n",
      "                         {'_id': 4, 'avg_hours': 65.95381263616558},\n",
      "                         {'_id': 10, 'avg_hours': 64.6048888888889}]}\n"
     ]
    }
   ],
   "source": [
    "# Question\n",
    "\n",
    "result = db.hr.aggregate(\n",
    "    \n",
    "    # Pipeline\n",
    "    [\n",
    "        # Stage 1 - Filter documents    \n",
    "        {\n",
    "            '$match':{'date_of_enrollment':{'$gte':datetime(2018,1,1)}}\n",
    "        },\n",
    "        \n",
    "        # Stage 2 - Prooject fields\n",
    "        {\n",
    "            '$project':{\n",
    "                            'Month':{'$month':'$date_of_enrollment'},\n",
    "                            'training_hours':1\n",
    "                        }\n",
    "        },\n",
    "        \n",
    "        # Stage 3 - Sub-pipelines\n",
    "        {\n",
    "            '$facet':{\n",
    "                        # Sub-pipeline 1 - Half-yearly result \n",
    "                        'Half_Yearly_avg_hours':[\n",
    "                                                # Stage 1\n",
    "                                                {\n",
    "                                                    '$bucket':{\n",
    "                                                                    'groupBy': '$Month',\n",
    "                                                                    'boundaries':[1, 7,13],\n",
    "                                                                    'output':{\n",
    "                                                                                'avg_hours':{'$avg':'$training_hours'}\n",
    "                                                                            }\n",
    "                                                              }\n",
    "                                                },\n",
    "                                                # Stage 2\n",
    "                                                {\n",
    "                                                    '$sort':{'avg_hours':-1}\n",
    "                                                }\n",
    "                                             ],\n",
    "                \n",
    "                        # Sub-pipeline 2 - Quarterly result\n",
    "                        'Quarterly_avg_hours':[\n",
    "                                                # Stage 1\n",
    "                                                {\n",
    "                                                    '$bucket':{\n",
    "                                                                    'groupBy': '$Month',\n",
    "                                                                    'boundaries':[1, 4, 7, 10, 13],\n",
    "                                                                    'output':{\n",
    "                                                                                'avg_hours':{'$avg':'$training_hours'}\n",
    "                                                                            }\n",
    "                                                              }\n",
    "                                                },\n",
    "                                                # Stage 2\n",
    "                                                {\n",
    "                                                    '$sort':{'avg_hours':-1}\n",
    "                                                }\n",
    "                                             ] \n",
    "                        }\n",
    "            }\n",
    "    ])\n",
    "\n",
    "# Print results\n",
    "for doc in result:\n",
    "    pp.pprint(doc)"
   ]
  },
  {
   "cell_type": "markdown",
   "id": "every-photograph",
   "metadata": {},
   "source": [
    "----\n",
    "### Exercise - \n",
    "\n",
    "Find average training hours delivered per education discipline and per education level for enrollees who joined from 2016 ownwards using sub-pipelines.\n",
    "\n",
    "----"
   ]
  },
  {
   "cell_type": "code",
   "execution_count": null,
   "id": "separated-province",
   "metadata": {},
   "outputs": [],
   "source": []
  },
  {
   "cell_type": "code",
   "execution_count": null,
   "id": "7a1e6574",
   "metadata": {},
   "outputs": [],
   "source": []
  },
  {
   "cell_type": "code",
   "execution_count": null,
   "id": "79ffbca7",
   "metadata": {},
   "outputs": [],
   "source": []
  },
  {
   "cell_type": "code",
   "execution_count": null,
   "id": "5c8cf25b",
   "metadata": {},
   "outputs": [],
   "source": []
  },
  {
   "cell_type": "code",
   "execution_count": null,
   "id": "7db1fad5",
   "metadata": {},
   "outputs": [],
   "source": []
  },
  {
   "cell_type": "code",
   "execution_count": null,
   "id": "1f0197c1",
   "metadata": {},
   "outputs": [],
   "source": []
  }
 ],
 "metadata": {
  "kernelspec": {
   "display_name": "Python 3 (ipykernel)",
   "language": "python",
   "name": "python3"
  },
  "language_info": {
   "codemirror_mode": {
    "name": "ipython",
    "version": 3
   },
   "file_extension": ".py",
   "mimetype": "text/x-python",
   "name": "python",
   "nbconvert_exporter": "python",
   "pygments_lexer": "ipython3",
   "version": "3.9.13"
  }
 },
 "nbformat": 4,
 "nbformat_minor": 5
}
