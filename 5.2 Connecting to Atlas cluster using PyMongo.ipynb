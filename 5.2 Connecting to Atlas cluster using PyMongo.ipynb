{
 "cells": [
  {
   "cell_type": "markdown",
   "id": "00808405-42b0-446e-ab02-d6a1a0093816",
   "metadata": {},
   "source": [
    "# `Connecting to Atlas cluster using PyMongo`"
   ]
  },
  {
   "cell_type": "code",
   "execution_count": 1,
   "id": "71c1ece1-5e53-4f47-b3b8-4143c488ac08",
   "metadata": {},
   "outputs": [],
   "source": [
    "# Importing the required libraries\n",
    "import pymongo"
   ]
  },
  {
   "cell_type": "code",
   "execution_count": 5,
   "id": "3d734048",
   "metadata": {},
   "outputs": [
    {
     "data": {
      "text/plain": [
       "'3.9.13'"
      ]
     },
     "execution_count": 5,
     "metadata": {},
     "output_type": "execute_result"
    }
   ],
   "source": [
    "from platform import python_version\n",
    "python_version()"
   ]
  },
  {
   "cell_type": "markdown",
   "id": "854d8b62-6034-417a-8c5c-d19bc6acd598",
   "metadata": {},
   "source": [
    "---\n",
    "Connect to MongoDB client which is [Atlas Cluster](https://www.mongodb.com/cloud/atlas) here.\n",
    "\n",
    "----"
   ]
  },
  {
   "cell_type": "code",
   "execution_count": 13,
   "id": "48052b26-67b0-4534-975e-4749001aaccd",
   "metadata": {},
   "outputs": [],
   "source": [
    "# # Connect to the Atlas Cluster\n",
    "# go to Atlas cluster dashboard\n",
    "import urllib\n",
    "client = pymongo.MongoClient('mongodb+srv://Parinita-Jain:'+urllib.parse.quote_plus(\"Silver@19\")+'@cluster0.kk9aans.mongodb.net/?retryWrites=true&w=majority')"
   ]
  },
  {
   "cell_type": "code",
   "execution_count": 14,
   "id": "weekly-disaster",
   "metadata": {},
   "outputs": [
    {
     "data": {
      "text/plain": [
       "MongoClient(host=['ac-nobkynb-shard-00-00.kk9aans.mongodb.net:27017', 'ac-nobkynb-shard-00-01.kk9aans.mongodb.net:27017', 'ac-nobkynb-shard-00-02.kk9aans.mongodb.net:27017'], document_class=dict, tz_aware=False, connect=True, retrywrites=True, w='majority', authsource='admin', replicaset='atlas-i6yjvi-shard-0', tls=True)"
      ]
     },
     "execution_count": 14,
     "metadata": {},
     "output_type": "execute_result"
    }
   ],
   "source": [
    "# Client\n",
    "client"
   ]
  },
  {
   "cell_type": "code",
   "execution_count": null,
   "id": "found-fleece",
   "metadata": {},
   "outputs": [],
   "source": []
  }
 ],
 "metadata": {
  "kernelspec": {
   "display_name": "Python 3 (ipykernel)",
   "language": "python",
   "name": "python3"
  },
  "language_info": {
   "codemirror_mode": {
    "name": "ipython",
    "version": 3
   },
   "file_extension": ".py",
   "mimetype": "text/x-python",
   "name": "python",
   "nbconvert_exporter": "python",
   "pygments_lexer": "ipython3",
   "version": "3.9.13"
  }
 },
 "nbformat": 4,
 "nbformat_minor": 5
}
