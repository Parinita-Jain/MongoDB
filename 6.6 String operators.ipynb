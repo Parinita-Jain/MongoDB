{
 "cells": [
  {
   "cell_type": "markdown",
   "id": "japanese-night",
   "metadata": {},
   "source": [
    "# String Expression Operators"
   ]
  },
  {
   "cell_type": "markdown",
   "id": "elegant-sucking",
   "metadata": {},
   "source": [
    "---\n",
    "### Connecting to MongoDB using Pymongo\n",
    "----"
   ]
  },
  {
   "cell_type": "code",
   "execution_count": 24,
   "id": "guided-cloud",
   "metadata": {},
   "outputs": [],
   "source": [
    "# Importing the required libraries\n",
    "import pymongo\n",
    "import pprint as pp\n",
    "\n",
    "pp.sorted = lambda x, key=None: x"
   ]
  },
  {
   "cell_type": "code",
   "execution_count": 25,
   "id": "another-island",
   "metadata": {},
   "outputs": [],
   "source": [
    "# Connect to the mongo client - Atlas Cluster\n",
    "client = pymongo.MongoClient('mongodb://localhost:27017/')"
   ]
  },
  {
   "cell_type": "code",
   "execution_count": 26,
   "id": "herbal-length",
   "metadata": {},
   "outputs": [],
   "source": [
    "# training dataset\n",
    "db = client.training"
   ]
  },
  {
   "cell_type": "code",
   "execution_count": 27,
   "id": "artificial-living",
   "metadata": {},
   "outputs": [
    {
     "name": "stdout",
     "output_type": "stream",
     "text": [
      "{'_id': ObjectId('60af5db0b2f5ad99212f9464'),\n",
      " 'enrollee_id': 23798,\n",
      " 'gender': 'Male',\n",
      " 'date_of_enrollment': datetime.datetime(2016, 1, 23, 0, 0),\n",
      " 'city': {'name': 'city_149', 'development_index': 0.689},\n",
      " 'education': {'level': 'Graduate', 'discipline': 'STEM'},\n",
      " 'experience': {'years': 3,\n",
      "                'company_type': 'Pvt Ltd',\n",
      "                'last_new_job': 1,\n",
      "                'relevent_experience': 1},\n",
      " 'training_hours': 106}\n"
     ]
    }
   ],
   "source": [
    "# Sample hr document\n",
    "pp.pprint(\n",
    "    db.hr.find_one()\n",
    ")"
   ]
  },
  {
   "cell_type": "markdown",
   "id": "e7fdb18e-0c5c-40f2-9194-bed4eda23ceb",
   "metadata": {},
   "source": [
    "---\n",
    "### [String operators](https://docs.mongodb.com/manual/reference/operator/aggregation/#string-expression-operators)\n",
    "\n",
    "String expressions let us manipulate string values.\n",
    "\n",
    "---\n",
    "\n",
    "For example, we want to return all those documents `training_hours` is greater than 100 and we want to concatenate `education.level` and `education.discipline` together.\n",
    "\n",
    "We will have to use the [$concat](https://docs.mongodb.com/manual/reference/operator/aggregation/concat/#-concat--aggregation-) operartor.\n",
    "\n",
    "---"
   ]
  },
  {
   "cell_type": "code",
   "execution_count": 28,
   "id": "f7324bc9-c35c-4252-a669-599f46202cd6",
   "metadata": {},
   "outputs": [
    {
     "name": "stdout",
     "output_type": "stream",
     "text": [
      "{'Course': 'STEM_Graduate', 'Training': 106}\n",
      "{'Course': 'STEM_Graduate', 'Training': 106}\n",
      "{'Course': 'STEM_Graduate', 'Training': 106}\n",
      "{'Course': 'STEM_Graduate', 'Training': 298}\n",
      "{'Course': 'Arts_Graduate', 'Training': 101}\n",
      "{'Course': 'STEM_Masters', 'Training': 114}\n",
      "{'Course': 'STEM_Graduate', 'Training': 104}\n",
      "{'Course': 'STEM_Graduate', 'Training': 109}\n",
      "{'Course': 'STEM_Graduate', 'Training': 262}\n",
      "{'Course': 'STEM_Graduate', 'Training': 112}\n"
     ]
    }
   ],
   "source": [
    "# Concat strings\n",
    "\n",
    "result = db.hr.aggregate(\n",
    "        # Pipeline\n",
    "        [\n",
    "            # Stage 1\n",
    "            {\n",
    "                '$match':{'training_hours':{'$gt':100}}\n",
    "            },\n",
    "            # Stage 2\n",
    "            {\n",
    "                '$project':{\n",
    "                                '_id':0,\n",
    "                                'Course':{\n",
    "                                            '$concat':['$education.discipline',\n",
    "                                                       '_',\n",
    "                                                       '$education.level']\n",
    "                                         },\n",
    "                                'Training': '$training_hours'\n",
    "                            }\n",
    "            },\n",
    "            # Stage 3\n",
    "            {\n",
    "                '$limit': 10\n",
    "            }\n",
    "        ])\n",
    "\n",
    "# Print results\n",
    "for doc in result:\n",
    "    pp.pprint(doc)"
   ]
  },
  {
   "cell_type": "markdown",
   "id": "84fe6683-f52a-43cb-b78f-dd7b2206cb78",
   "metadata": {},
   "source": [
    "----\n",
    "Similarly there are other operators like :-\n",
    "\n",
    "- [$toUpper](https://docs.mongodb.com/manual/reference/operator/aggregation/toUpper/#mongodb-expression-exp.-toUpper) - Converts a string to upperrcase.\n",
    "\n",
    "- [$toLower](https://docs.mongodb.com/manual/reference/operator/aggregation/toLower/#mongodb-expression-exp.-toLower) - Converts a string to lowercase.\n",
    "\n",
    "- [$substrCP](https://docs.mongodb.com/manual/reference/operator/aggregation/substrCP/#-substrcp--aggregation-) - Returns the substring of a string.\n",
    "\n",
    "- [$split](https://docs.mongodb.com/manual/reference/operator/aggregation/split/#mongodb-expression-exp.-split) - Splits a string into substrings based on a delimiter. Returns an array of substrings.\n",
    "\n",
    "- [$strLenCP](https://docs.mongodb.com/manual/reference/operator/aggregation/strLenCP/#mongodb-expression-exp.-strLenCP) - Returns the length of string.\n",
    "\n",
    "\n",
    "For example, let's work with the `experience.company_type` field.\n",
    "\n",
    "----"
   ]
  },
  {
   "cell_type": "code",
   "execution_count": 29,
   "id": "8e9595db-6801-4626-955b-b0058101ba3f",
   "metadata": {
    "scrolled": true
   },
   "outputs": [
    {
     "name": "stdout",
     "output_type": "stream",
     "text": [
      "{'Upper_case': 'PVT LTD',\n",
      " 'Lower_case': 'pvt ltd',\n",
      " 'Substr': 'P',\n",
      " 'Split_on_Space': ['Pvt', 'Ltd'],\n",
      " 'String_Length': 7}\n"
     ]
    }
   ],
   "source": [
    "# String operators\n",
    "\n",
    "result = db.hr.aggregate(\n",
    "        # Pipeline\n",
    "        [\n",
    "            # Stage 1\n",
    "            {\n",
    "                '$match':{'training_hours':{'$gt':200}}\n",
    "            },\n",
    "            # Stage 2\n",
    "            {\n",
    "                '$project':{\n",
    "                                '_id':0,\n",
    "                                \n",
    "                                # Casing\n",
    "                                'Upper_case':{'$toUpper':'$experience.company_type'},\n",
    "                                'Lower_case':{'$toLower':'$experience.company_type'},\n",
    "                                \n",
    "                                # Substring\n",
    "                                'Substr':{'$substrCP':['$experience.company_type', 0, 1]},\n",
    "                                \n",
    "                                # Split string on delimiter\n",
    "                                'Split_on_Space':{'$split':['$experience.company_type', ' ']},\n",
    "                                \n",
    "                                # String length\n",
    "                                'String_Length':{'$strLenCP':'$experience.company_type'}\n",
    "                            }\n",
    "            },\n",
    "            # Stage 3\n",
    "            {\n",
    "                '$limit': 1\n",
    "            }\n",
    "        ])\n",
    "\n",
    "# Print results\n",
    "for doc in result:\n",
    "    pp.pprint(doc)"
   ]
  },
  {
   "cell_type": "markdown",
   "id": "right-consideration",
   "metadata": {},
   "source": [
    "----\n",
    "**Regex**\n",
    "\n",
    "Can also include regex operators in aggregation pipeline.\n",
    "\n",
    "[$regexMatch](https://docs.mongodb.com/manual/reference/operator/aggregation/regexMatch/#-regexmatch--aggregation-) returns a boolean value indicating whether string matches regex pattern or not.\n",
    "\n",
    "----"
   ]
  },
  {
   "cell_type": "code",
   "execution_count": 30,
   "id": "e4414fef-a643-41f6-b42b-691817d726f7",
   "metadata": {
    "scrolled": true
   },
   "outputs": [
    {
     "ename": "OperationFailure",
     "evalue": "PlanExecutor error during aggregation :: caused by :: $regexMatch needs 'input' to be of type string, full error: {'ok': 0.0, 'errmsg': \"PlanExecutor error during aggregation :: caused by :: $regexMatch needs 'input' to be of type string\", 'code': 51104, 'codeName': 'Location51104'}",
     "output_type": "error",
     "traceback": [
      "\u001b[1;31m---------------------------------------------------------------------------\u001b[0m",
      "\u001b[1;31mOperationFailure\u001b[0m                          Traceback (most recent call last)",
      "\u001b[1;32m~\\AppData\\Local\\Temp\\ipykernel_14136\\1887460915.py\u001b[0m in \u001b[0;36m<module>\u001b[1;34m\u001b[0m\n\u001b[0;32m      1\u001b[0m \u001b[1;31m# Regex\u001b[0m\u001b[1;33m\u001b[0m\u001b[1;33m\u001b[0m\u001b[0m\n\u001b[0;32m      2\u001b[0m \u001b[1;33m\u001b[0m\u001b[0m\n\u001b[1;32m----> 3\u001b[1;33m result = db.hr.aggregate(\n\u001b[0m\u001b[0;32m      4\u001b[0m         \u001b[1;31m# Pipeline\u001b[0m\u001b[1;33m\u001b[0m\u001b[1;33m\u001b[0m\u001b[0m\n\u001b[0;32m      5\u001b[0m         [\n",
      "\u001b[1;32m~\\anaconda3\\lib\\site-packages\\pymongo\\collection.py\u001b[0m in \u001b[0;36maggregate\u001b[1;34m(self, pipeline, session, let, comment, **kwargs)\u001b[0m\n\u001b[0;32m   2434\u001b[0m \u001b[1;33m\u001b[0m\u001b[0m\n\u001b[0;32m   2435\u001b[0m         \u001b[1;32mwith\u001b[0m \u001b[0mself\u001b[0m\u001b[1;33m.\u001b[0m\u001b[0m__database\u001b[0m\u001b[1;33m.\u001b[0m\u001b[0mclient\u001b[0m\u001b[1;33m.\u001b[0m\u001b[0m_tmp_session\u001b[0m\u001b[1;33m(\u001b[0m\u001b[0msession\u001b[0m\u001b[1;33m,\u001b[0m \u001b[0mclose\u001b[0m\u001b[1;33m=\u001b[0m\u001b[1;32mFalse\u001b[0m\u001b[1;33m)\u001b[0m \u001b[1;32mas\u001b[0m \u001b[0ms\u001b[0m\u001b[1;33m:\u001b[0m\u001b[1;33m\u001b[0m\u001b[1;33m\u001b[0m\u001b[0m\n\u001b[1;32m-> 2436\u001b[1;33m             return self._aggregate(\n\u001b[0m\u001b[0;32m   2437\u001b[0m                 \u001b[0m_CollectionAggregationCommand\u001b[0m\u001b[1;33m,\u001b[0m\u001b[1;33m\u001b[0m\u001b[1;33m\u001b[0m\u001b[0m\n\u001b[0;32m   2438\u001b[0m                 \u001b[0mpipeline\u001b[0m\u001b[1;33m,\u001b[0m\u001b[1;33m\u001b[0m\u001b[1;33m\u001b[0m\u001b[0m\n",
      "\u001b[1;32m~\\anaconda3\\lib\\site-packages\\pymongo\\_csot.py\u001b[0m in \u001b[0;36mcsot_wrapper\u001b[1;34m(self, *args, **kwargs)\u001b[0m\n\u001b[0;32m    103\u001b[0m                 \u001b[1;32mwith\u001b[0m \u001b[0m_TimeoutContext\u001b[0m\u001b[1;33m(\u001b[0m\u001b[0mtimeout\u001b[0m\u001b[1;33m)\u001b[0m\u001b[1;33m:\u001b[0m\u001b[1;33m\u001b[0m\u001b[1;33m\u001b[0m\u001b[0m\n\u001b[0;32m    104\u001b[0m                     \u001b[1;32mreturn\u001b[0m \u001b[0mfunc\u001b[0m\u001b[1;33m(\u001b[0m\u001b[0mself\u001b[0m\u001b[1;33m,\u001b[0m \u001b[1;33m*\u001b[0m\u001b[0margs\u001b[0m\u001b[1;33m,\u001b[0m \u001b[1;33m**\u001b[0m\u001b[0mkwargs\u001b[0m\u001b[1;33m)\u001b[0m\u001b[1;33m\u001b[0m\u001b[1;33m\u001b[0m\u001b[0m\n\u001b[1;32m--> 105\u001b[1;33m         \u001b[1;32mreturn\u001b[0m \u001b[0mfunc\u001b[0m\u001b[1;33m(\u001b[0m\u001b[0mself\u001b[0m\u001b[1;33m,\u001b[0m \u001b[1;33m*\u001b[0m\u001b[0margs\u001b[0m\u001b[1;33m,\u001b[0m \u001b[1;33m**\u001b[0m\u001b[0mkwargs\u001b[0m\u001b[1;33m)\u001b[0m\u001b[1;33m\u001b[0m\u001b[1;33m\u001b[0m\u001b[0m\n\u001b[0m\u001b[0;32m    106\u001b[0m \u001b[1;33m\u001b[0m\u001b[0m\n\u001b[0;32m    107\u001b[0m     \u001b[1;32mreturn\u001b[0m \u001b[0mcast\u001b[0m\u001b[1;33m(\u001b[0m\u001b[0mF\u001b[0m\u001b[1;33m,\u001b[0m \u001b[0mcsot_wrapper\u001b[0m\u001b[1;33m)\u001b[0m\u001b[1;33m\u001b[0m\u001b[1;33m\u001b[0m\u001b[0m\n",
      "\u001b[1;32m~\\anaconda3\\lib\\site-packages\\pymongo\\collection.py\u001b[0m in \u001b[0;36m_aggregate\u001b[1;34m(self, aggregation_command, pipeline, cursor_class, session, explicit_session, let, comment, **kwargs)\u001b[0m\n\u001b[0;32m   2341\u001b[0m         )\n\u001b[0;32m   2342\u001b[0m \u001b[1;33m\u001b[0m\u001b[0m\n\u001b[1;32m-> 2343\u001b[1;33m         return self.__database.client._retryable_read(\n\u001b[0m\u001b[0;32m   2344\u001b[0m             \u001b[0mcmd\u001b[0m\u001b[1;33m.\u001b[0m\u001b[0mget_cursor\u001b[0m\u001b[1;33m,\u001b[0m\u001b[1;33m\u001b[0m\u001b[1;33m\u001b[0m\u001b[0m\n\u001b[0;32m   2345\u001b[0m             \u001b[0mcmd\u001b[0m\u001b[1;33m.\u001b[0m\u001b[0mget_read_preference\u001b[0m\u001b[1;33m(\u001b[0m\u001b[0msession\u001b[0m\u001b[1;33m)\u001b[0m\u001b[1;33m,\u001b[0m\u001b[1;33m\u001b[0m\u001b[1;33m\u001b[0m\u001b[0m\n",
      "\u001b[1;32m~\\anaconda3\\lib\\site-packages\\pymongo\\_csot.py\u001b[0m in \u001b[0;36mcsot_wrapper\u001b[1;34m(self, *args, **kwargs)\u001b[0m\n\u001b[0;32m    103\u001b[0m                 \u001b[1;32mwith\u001b[0m \u001b[0m_TimeoutContext\u001b[0m\u001b[1;33m(\u001b[0m\u001b[0mtimeout\u001b[0m\u001b[1;33m)\u001b[0m\u001b[1;33m:\u001b[0m\u001b[1;33m\u001b[0m\u001b[1;33m\u001b[0m\u001b[0m\n\u001b[0;32m    104\u001b[0m                     \u001b[1;32mreturn\u001b[0m \u001b[0mfunc\u001b[0m\u001b[1;33m(\u001b[0m\u001b[0mself\u001b[0m\u001b[1;33m,\u001b[0m \u001b[1;33m*\u001b[0m\u001b[0margs\u001b[0m\u001b[1;33m,\u001b[0m \u001b[1;33m**\u001b[0m\u001b[0mkwargs\u001b[0m\u001b[1;33m)\u001b[0m\u001b[1;33m\u001b[0m\u001b[1;33m\u001b[0m\u001b[0m\n\u001b[1;32m--> 105\u001b[1;33m         \u001b[1;32mreturn\u001b[0m \u001b[0mfunc\u001b[0m\u001b[1;33m(\u001b[0m\u001b[0mself\u001b[0m\u001b[1;33m,\u001b[0m \u001b[1;33m*\u001b[0m\u001b[0margs\u001b[0m\u001b[1;33m,\u001b[0m \u001b[1;33m**\u001b[0m\u001b[0mkwargs\u001b[0m\u001b[1;33m)\u001b[0m\u001b[1;33m\u001b[0m\u001b[1;33m\u001b[0m\u001b[0m\n\u001b[0m\u001b[0;32m    106\u001b[0m \u001b[1;33m\u001b[0m\u001b[0m\n\u001b[0;32m    107\u001b[0m     \u001b[1;32mreturn\u001b[0m \u001b[0mcast\u001b[0m\u001b[1;33m(\u001b[0m\u001b[0mF\u001b[0m\u001b[1;33m,\u001b[0m \u001b[0mcsot_wrapper\u001b[0m\u001b[1;33m)\u001b[0m\u001b[1;33m\u001b[0m\u001b[1;33m\u001b[0m\u001b[0m\n",
      "\u001b[1;32m~\\anaconda3\\lib\\site-packages\\pymongo\\mongo_client.py\u001b[0m in \u001b[0;36m_retryable_read\u001b[1;34m(self, func, read_pref, session, address, retryable)\u001b[0m\n\u001b[0;32m   1446\u001b[0m                         \u001b[1;32massert\u001b[0m \u001b[0mlast_error\u001b[0m \u001b[1;32mis\u001b[0m \u001b[1;32mnot\u001b[0m \u001b[1;32mNone\u001b[0m\u001b[1;33m\u001b[0m\u001b[1;33m\u001b[0m\u001b[0m\n\u001b[0;32m   1447\u001b[0m                         \u001b[1;32mraise\u001b[0m \u001b[0mlast_error\u001b[0m\u001b[1;33m\u001b[0m\u001b[1;33m\u001b[0m\u001b[0m\n\u001b[1;32m-> 1448\u001b[1;33m                     \u001b[1;32mreturn\u001b[0m \u001b[0mfunc\u001b[0m\u001b[1;33m(\u001b[0m\u001b[0msession\u001b[0m\u001b[1;33m,\u001b[0m \u001b[0mserver\u001b[0m\u001b[1;33m,\u001b[0m \u001b[0msock_info\u001b[0m\u001b[1;33m,\u001b[0m \u001b[0mread_pref\u001b[0m\u001b[1;33m)\u001b[0m\u001b[1;33m\u001b[0m\u001b[1;33m\u001b[0m\u001b[0m\n\u001b[0m\u001b[0;32m   1449\u001b[0m             \u001b[1;32mexcept\u001b[0m \u001b[0mServerSelectionTimeoutError\u001b[0m\u001b[1;33m:\u001b[0m\u001b[1;33m\u001b[0m\u001b[1;33m\u001b[0m\u001b[0m\n\u001b[0;32m   1450\u001b[0m                 \u001b[1;32mif\u001b[0m \u001b[0mretrying\u001b[0m\u001b[1;33m:\u001b[0m\u001b[1;33m\u001b[0m\u001b[1;33m\u001b[0m\u001b[0m\n",
      "\u001b[1;32m~\\anaconda3\\lib\\site-packages\\pymongo\\aggregation.py\u001b[0m in \u001b[0;36mget_cursor\u001b[1;34m(self, session, server, sock_info, read_preference)\u001b[0m\n\u001b[0;32m    140\u001b[0m \u001b[1;33m\u001b[0m\u001b[0m\n\u001b[0;32m    141\u001b[0m         \u001b[1;31m# Run command.\u001b[0m\u001b[1;33m\u001b[0m\u001b[1;33m\u001b[0m\u001b[0m\n\u001b[1;32m--> 142\u001b[1;33m         result = sock_info.command(\n\u001b[0m\u001b[0;32m    143\u001b[0m             \u001b[0mself\u001b[0m\u001b[1;33m.\u001b[0m\u001b[0m_database\u001b[0m\u001b[1;33m.\u001b[0m\u001b[0mname\u001b[0m\u001b[1;33m,\u001b[0m\u001b[1;33m\u001b[0m\u001b[1;33m\u001b[0m\u001b[0m\n\u001b[0;32m    144\u001b[0m             \u001b[0mcmd\u001b[0m\u001b[1;33m,\u001b[0m\u001b[1;33m\u001b[0m\u001b[1;33m\u001b[0m\u001b[0m\n",
      "\u001b[1;32m~\\anaconda3\\lib\\site-packages\\pymongo\\pool.py\u001b[0m in \u001b[0;36mcommand\u001b[1;34m(self, dbname, spec, read_preference, codec_options, check, allowable_errors, read_concern, write_concern, parse_write_concern_error, collation, session, client, retryable_write, publish_events, user_fields, exhaust_allowed)\u001b[0m\n\u001b[0;32m    765\u001b[0m             \u001b[0mself\u001b[0m\u001b[1;33m.\u001b[0m\u001b[0m_raise_if_not_writable\u001b[0m\u001b[1;33m(\u001b[0m\u001b[0munacknowledged\u001b[0m\u001b[1;33m)\u001b[0m\u001b[1;33m\u001b[0m\u001b[1;33m\u001b[0m\u001b[0m\n\u001b[0;32m    766\u001b[0m         \u001b[1;32mtry\u001b[0m\u001b[1;33m:\u001b[0m\u001b[1;33m\u001b[0m\u001b[1;33m\u001b[0m\u001b[0m\n\u001b[1;32m--> 767\u001b[1;33m             return command(\n\u001b[0m\u001b[0;32m    768\u001b[0m                 \u001b[0mself\u001b[0m\u001b[1;33m,\u001b[0m\u001b[1;33m\u001b[0m\u001b[1;33m\u001b[0m\u001b[0m\n\u001b[0;32m    769\u001b[0m                 \u001b[0mdbname\u001b[0m\u001b[1;33m,\u001b[0m\u001b[1;33m\u001b[0m\u001b[1;33m\u001b[0m\u001b[0m\n",
      "\u001b[1;32m~\\anaconda3\\lib\\site-packages\\pymongo\\network.py\u001b[0m in \u001b[0;36mcommand\u001b[1;34m(sock_info, dbname, spec, is_mongos, read_preference, codec_options, session, client, check, allowable_errors, address, listeners, max_bson_size, read_concern, parse_write_concern_error, collation, compression_ctx, use_op_msg, unacknowledged, user_fields, exhaust_allowed, write_concern)\u001b[0m\n\u001b[0;32m    164\u001b[0m                 \u001b[0mclient\u001b[0m\u001b[1;33m.\u001b[0m\u001b[0m_process_response\u001b[0m\u001b[1;33m(\u001b[0m\u001b[0mresponse_doc\u001b[0m\u001b[1;33m,\u001b[0m \u001b[0msession\u001b[0m\u001b[1;33m)\u001b[0m\u001b[1;33m\u001b[0m\u001b[1;33m\u001b[0m\u001b[0m\n\u001b[0;32m    165\u001b[0m             \u001b[1;32mif\u001b[0m \u001b[0mcheck\u001b[0m\u001b[1;33m:\u001b[0m\u001b[1;33m\u001b[0m\u001b[1;33m\u001b[0m\u001b[0m\n\u001b[1;32m--> 166\u001b[1;33m                 helpers._check_command_response(\n\u001b[0m\u001b[0;32m    167\u001b[0m                     \u001b[0mresponse_doc\u001b[0m\u001b[1;33m,\u001b[0m\u001b[1;33m\u001b[0m\u001b[1;33m\u001b[0m\u001b[0m\n\u001b[0;32m    168\u001b[0m                     \u001b[0msock_info\u001b[0m\u001b[1;33m.\u001b[0m\u001b[0mmax_wire_version\u001b[0m\u001b[1;33m,\u001b[0m\u001b[1;33m\u001b[0m\u001b[1;33m\u001b[0m\u001b[0m\n",
      "\u001b[1;32m~\\anaconda3\\lib\\site-packages\\pymongo\\helpers.py\u001b[0m in \u001b[0;36m_check_command_response\u001b[1;34m(response, max_wire_version, allowable_errors, parse_write_concern_error)\u001b[0m\n\u001b[0;32m    179\u001b[0m         \u001b[1;32mraise\u001b[0m \u001b[0mCursorNotFound\u001b[0m\u001b[1;33m(\u001b[0m\u001b[0merrmsg\u001b[0m\u001b[1;33m,\u001b[0m \u001b[0mcode\u001b[0m\u001b[1;33m,\u001b[0m \u001b[0mresponse\u001b[0m\u001b[1;33m,\u001b[0m \u001b[0mmax_wire_version\u001b[0m\u001b[1;33m)\u001b[0m\u001b[1;33m\u001b[0m\u001b[1;33m\u001b[0m\u001b[0m\n\u001b[0;32m    180\u001b[0m \u001b[1;33m\u001b[0m\u001b[0m\n\u001b[1;32m--> 181\u001b[1;33m     \u001b[1;32mraise\u001b[0m \u001b[0mOperationFailure\u001b[0m\u001b[1;33m(\u001b[0m\u001b[0merrmsg\u001b[0m\u001b[1;33m,\u001b[0m \u001b[0mcode\u001b[0m\u001b[1;33m,\u001b[0m \u001b[0mresponse\u001b[0m\u001b[1;33m,\u001b[0m \u001b[0mmax_wire_version\u001b[0m\u001b[1;33m)\u001b[0m\u001b[1;33m\u001b[0m\u001b[1;33m\u001b[0m\u001b[0m\n\u001b[0m\u001b[0;32m    182\u001b[0m \u001b[1;33m\u001b[0m\u001b[0m\n\u001b[0;32m    183\u001b[0m \u001b[1;33m\u001b[0m\u001b[0m\n",
      "\u001b[1;31mOperationFailure\u001b[0m: PlanExecutor error during aggregation :: caused by :: $regexMatch needs 'input' to be of type string, full error: {'ok': 0.0, 'errmsg': \"PlanExecutor error during aggregation :: caused by :: $regexMatch needs 'input' to be of type string\", 'code': 51104, 'codeName': 'Location51104'}"
     ]
    }
   ],
   "source": [
    "# Regex\n",
    "\n",
    "result = db.hr.aggregate(\n",
    "        # Pipeline\n",
    "        [\n",
    "            # Stage 1\n",
    "            {\n",
    "                '$project':{\n",
    "                                '_id':0,\n",
    "                                'String':'$experience.company_type',\n",
    "                                # regex\n",
    "                                'Regex':{\n",
    "                                            '$regexMatch':{\n",
    "                                                            'input':\"$experience.company_type\",\n",
    "                                                            'regex':'LTD',\n",
    "                                                            'options':'i'\n",
    "                                                        }\n",
    "                                        }\n",
    "                            }\n",
    "            },\n",
    "            # Stage 2\n",
    "            {\n",
    "                '$limit': 5\n",
    "            }\n",
    "        ])\n",
    "\n",
    "# Print results\n",
    "for doc in result:\n",
    "    pp.pprint(doc)"
   ]
  },
  {
   "cell_type": "markdown",
   "id": "proof-planning",
   "metadata": {},
   "source": [
    "---\n",
    "[$regexFind](https://docs.mongodb.com/manual/reference/operator/aggregation/regexFind/#-regexfind--aggregation-) returns information about a match on a document. If a match is not found, returns null.\n",
    "\n",
    "---"
   ]
  },
  {
   "cell_type": "code",
   "execution_count": null,
   "id": "textile-morris",
   "metadata": {
    "scrolled": false
   },
   "outputs": [],
   "source": [
    "# Regex\n",
    "\n",
    "result = db.hr.aggregate(\n",
    "        # Pipeline\n",
    "        [\n",
    "            # Stage 1\n",
    "            {\n",
    "                '$project':{ \n",
    "                                '_id':0,\n",
    "                                'String':'$experience.company_type',\n",
    "                                # regex\n",
    "                                'Regex':{\n",
    "                                            '$regexFind':{\n",
    "                                                            'input':'$experience.company_type',\n",
    "                                                            'regex':'^P',\n",
    "                                                            'options':'i'\n",
    "                                                        }\n",
    "                                        }\n",
    "                            }\n",
    "            },\n",
    "            # Stage 2\n",
    "            {\n",
    "                '$limit': 10\n",
    "            }\n",
    "        ])\n",
    "\n",
    "# Print results\n",
    "for doc in result:\n",
    "    pp.pprint(doc)"
   ]
  },
  {
   "cell_type": "markdown",
   "id": "written-survivor",
   "metadata": {},
   "source": [
    "---\n",
    "\n",
    "The [captures array](https://docs.mongodb.com/manual/reference/operator/aggregation/regexFind/#captures-output-behavior) in the results corresponds to the groups captured by the matching string. Capture groups are specified with unescaped parentheses () in the regex pattern.\n",
    "\n",
    "---"
   ]
  },
  {
   "cell_type": "code",
   "execution_count": null,
   "id": "accessible-postage",
   "metadata": {},
   "outputs": [],
   "source": [
    "# Regex\n",
    "\n",
    "result = db.hr.aggregate(\n",
    "        # Pipeline\n",
    "        [\n",
    "            # Stage 1\n",
    "            {\n",
    "                '$project':{\n",
    "                                '_id':0,\n",
    "                                'String':'$experience.company_type',\n",
    "                                # regex\n",
    "                                'Regex':{\n",
    "                                            '$regexFind':{\n",
    "                                                            'input':'$experience.company_type',\n",
    "                                                            'regex':'^P(vt|ub)',\n",
    "                                                            'options':'i'\n",
    "                                                        }\n",
    "                                        }\n",
    "                            }\n",
    "            },\n",
    "            # Stage 2\n",
    "            {\n",
    "                '$limit': 10\n",
    "            }\n",
    "        ])\n",
    "\n",
    "# Print results\n",
    "for doc in result:\n",
    "    pp.pprint(doc)"
   ]
  },
  {
   "cell_type": "markdown",
   "id": "joint-hostel",
   "metadata": {},
   "source": [
    "---\n",
    "**Using [$cond](https://docs.mongodb.com/manual/reference/operator/aggregation/cond/#mongodb-expression-exp.-cond) conditional operator we can label encode string values.**\n",
    "\n",
    "\n",
    "It evaluates a boolean expression to return one of the two specified return expressions.\n",
    "\n",
    "\n",
    "For example, we project a new field and return 1 if `experience.company_type` contains `ltd` and 0 otherwise.\n",
    "\n",
    "-----"
   ]
  },
  {
   "cell_type": "code",
   "execution_count": null,
   "id": "chinese-gather",
   "metadata": {},
   "outputs": [],
   "source": [
    "# Regex\n",
    "\n",
    "result = db.hr.aggregate(\n",
    "        # Pipeline\n",
    "        [\n",
    "            # Stage 1\n",
    "            {\n",
    "            '$project':{\n",
    "                        '_id':0,\n",
    "                        'Type':'$experience.company_type',\n",
    "                        'Encoded':{\n",
    "                                    '$cond':{\n",
    "                                                'if':{\n",
    "                                                        '$regexMatch':{\n",
    "                                                                            'input':'$experience.company_type',\n",
    "                                                                            'regex':'ltd',\n",
    "                                                                            'options':'i'\n",
    "                                                                        }\n",
    "                                                    },\n",
    "                                                'then':1,\n",
    "                                                'else':0\n",
    "                                                }\n",
    "                                }\n",
    "                        }\n",
    "            },\n",
    "            # Stage 2\n",
    "            {\n",
    "                '$limit': 10\n",
    "            }\n",
    "        ])\n",
    "\n",
    "# Print results\n",
    "for doc in result:\n",
    "    pp.pprint(doc)"
   ]
  },
  {
   "cell_type": "markdown",
   "id": "foster-motel",
   "metadata": {},
   "source": [
    "----\n",
    "\n",
    "### Exercise 1 - \n",
    "\n",
    "Look for those documents that have more than 5 years of total experience and whose `education.level` contains the `school` substring.\n",
    "\n",
    "----"
   ]
  },
  {
   "cell_type": "markdown",
   "id": "spiritual-punishment",
   "metadata": {},
   "source": [
    "----\n",
    "\n",
    "### Exercise 2 - \n",
    "\n",
    "Output a new fiedl `Encoded` whenever the `education.level` field contains the substring `school`.\n",
    "\n",
    "----"
   ]
  },
  {
   "cell_type": "code",
   "execution_count": null,
   "id": "aware-construction",
   "metadata": {},
   "outputs": [],
   "source": []
  }
 ],
 "metadata": {
  "kernelspec": {
   "display_name": "Python 3 (ipykernel)",
   "language": "python",
   "name": "python3"
  },
  "language_info": {
   "codemirror_mode": {
    "name": "ipython",
    "version": 3
   },
   "file_extension": ".py",
   "mimetype": "text/x-python",
   "name": "python",
   "nbconvert_exporter": "python",
   "pygments_lexer": "ipython3",
   "version": "3.9.13"
  }
 },
 "nbformat": 4,
 "nbformat_minor": 5
}
